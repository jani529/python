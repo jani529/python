{
 "cells": [
  {
   "cell_type": "code",
   "execution_count": null,
   "metadata": {},
   "outputs": [],
   "source": [
    "from IPython.display import clear_output\n",
    "def display_board(board):\n",
    "    clear_output()  # Remember, this only works in jupyter!\n",
    "    \n",
    "    print('   |   |')\n",
    "    print(' ' + board[7] + ' | ' + board[8] + ' | ' + board[9])\n",
    "    print('   |   |')\n",
    "    print('-----------')\n",
    "    print('   |   |')\n",
    "    print(' ' + board[4] + ' | ' + board[5] + ' | ' + board[6])\n",
    "    print('   |   |')\n",
    "    print('-----------')\n",
    "    print('   |   |')\n",
    "    print(' ' + board[1] + ' | ' + board[2] + ' | ' + board[3])\n",
    "    print('   |   |')"
   ]
  },
  {
   "cell_type": "code",
   "execution_count": null,
   "metadata": {},
   "outputs": [],
   "source": [
    "\n",
    "clear_output()"
   ]
  },
  {
   "cell_type": "code",
   "execution_count": null,
   "metadata": {},
   "outputs": [],
   "source": [
    "\n",
    "board = ['#','X','O','X','O','X','O','X','O','X']"
   ]
  },
  {
   "cell_type": "code",
   "execution_count": null,
   "metadata": {},
   "outputs": [],
   "source": [
    "display_board(board)"
   ]
  },
  {
   "cell_type": "code",
   "execution_count": null,
   "metadata": {},
   "outputs": [],
   "source": [
    "type(board)"
   ]
  },
  {
   "cell_type": "code",
   "execution_count": null,
   "metadata": {},
   "outputs": [],
   "source": [
    "def player_input():\n",
    "    marker = ''\n",
    "    while not (marker == 'X' or marker == 'o'):\n",
    "            marker = input('Player 1: choose X or O :').upper()\n",
    "    if marker == 'X':\n",
    "     return ('X','O')\n",
    "    else:\n",
    "     return ('O','X') "
   ]
  },
  {
   "cell_type": "code",
   "execution_count": null,
   "metadata": {},
   "outputs": [],
   "source": [
    "player1_marker,player2_marker = player_input()"
   ]
  },
  {
   "cell_type": "code",
   "execution_count": null,
   "metadata": {},
   "outputs": [],
   "source": [
    "player1_marker"
   ]
  },
  {
   "cell_type": "code",
   "execution_count": null,
   "metadata": {},
   "outputs": [],
   "source": [
    "player2_marker"
   ]
  },
  {
   "cell_type": "code",
   "execution_count": null,
   "metadata": {},
   "outputs": [],
   "source": [
    "\n",
    "def place_marker(board,marker,position):\n",
    "    board[position] = marker"
   ]
  },
  {
   "cell_type": "code",
   "execution_count": null,
   "metadata": {},
   "outputs": [],
   "source": [
    "place_marker(board,'$',8)\n",
    "display_board(board)"
   ]
  },
  {
   "cell_type": "code",
   "execution_count": null,
   "metadata": {},
   "outputs": [],
   "source": [
    "\n",
    "def win_check(board,mark):\n",
    "    '''\n",
    "    WIN TIC TAC TOE ?\n",
    "    1.WE NEED TO CHECK ALL THREE ROWS MARKERS HAVING SAME VALUE OR NOT\n",
    "    2.WE NEED TO CHECK ALL THREE COULMNS MARKERS HAVING SAME VALUE OR NOT\n",
    "    3.WE NEED TO CHECK ALL TWO DIAGONALS MARKERS HAVING SAME VALUE OR NOT\n",
    "    '''\n",
    "    return ((board[7] == board[8] == board[9] == mark) or\n",
    "         (board[4] == board[5] == board[6] == mark) or\n",
    "         (board[1] == board[2] == board[3] == mark) or\n",
    "         (board[7] == board[4] == board[1] == mark) or\n",
    "         (board[8] == board[5] == board[2] == mark) or\n",
    "         (board[9] == board[6] == board[3] == mark) or\n",
    "         (board[7] == board[5] == board[3] == mark) or\n",
    "         (board[1] == board[5] == board[9] == mark))"
   ]
  },
  {
   "cell_type": "code",
   "execution_count": null,
   "metadata": {},
   "outputs": [],
   "source": [
    "display_board(board)"
   ]
  },
  {
   "cell_type": "code",
   "execution_count": null,
   "metadata": {},
   "outputs": [],
   "source": [
    "win_check(board,'X')"
   ]
  },
  {
   "cell_type": "code",
   "execution_count": null,
   "metadata": {},
   "outputs": [],
   "source": [
    "\n",
    "import random\n",
    "def choose_first():\n",
    "    flip = random.randint(0,1)\n",
    "    if flip == 0:\n",
    "     return 'Player 1'\n",
    "    else:\n",
    "     return 'player 2'"
   ]
  },
  {
   "cell_type": "code",
   "execution_count": null,
   "metadata": {},
   "outputs": [],
   "source": [
    "def space_check(board,position):\n",
    "    return board[position] == ' '"
   ]
  },
  {
   "cell_type": "code",
   "execution_count": null,
   "metadata": {},
   "outputs": [],
   "source": [
    "def full_board_check(board):\n",
    "    for i in range(1,10):\n",
    "        if space_check(board,i):\n",
    "            return False\n",
    "    return True\n"
   ]
  },
  {
   "cell_type": "code",
   "execution_count": null,
   "metadata": {},
   "outputs": [],
   "source": [
    "\n",
    "def player_choice(board):\n",
    "    position = 0\n",
    "    while position not in [1,2,3,4,5,6,7,8,9] or not space_check(board,position):\n",
    "        position = int(input('choose a position (1-9) '))\n",
    "        \n",
    "    return position"
   ]
  },
  {
   "cell_type": "code",
   "execution_count": null,
   "metadata": {},
   "outputs": [],
   "source": [
    "def replay():\n",
    "    choice = input(\"Play again ? Yes or No\")\n",
    "    return choice == 'Yes'"
   ]
  },
  {
   "cell_type": "code",
   "execution_count": null,
   "metadata": {},
   "outputs": [],
   "source": [
    "print('Welcome to TIC TAK TOE GAME')\n",
    "while True:\n",
    "   # play the game\n",
    "   #set everything up (board,whos is first,choose markers x,O)\n",
    "    the_board = ['']*10 \n",
    "    player1_marker,player2_marker = player_input()\n",
    "    turn = choose_first()\n",
    "    print(turn+ ' will go first')\n",
    "    play_game = input('Ready to play? Y or N  ').upper()\n",
    "    if play_game == 'Y':\n",
    "        game_on = True\n",
    "    else:\n",
    "        game_on = False\n",
    "    \n",
    "    # Game play\n",
    "    while game_on:\n",
    "            if turn == 'Player 1':\n",
    "             # show the board\n",
    "                display_board(the_board)\n",
    "             #Choose the position    \n",
    "                position = player_choice(the_board)\n",
    "             # place the marker on the position\n",
    "                place_marker(the_board,player1_marker,position)\n",
    "                \n",
    "             # check if they won the game\n",
    "                if win_check(the_board,player1_marker):\n",
    "                    display_board(the_board)\n",
    "                    print('Player 1 has won !!')\n",
    "                    game_on = False\n",
    "                else:\n",
    "                     # or check if there is a tie\n",
    "                    if full_board_check(the_board):\n",
    "                        display_board(the_board)\n",
    "                        print('TIE GAME')\n",
    "                        game_on = False\n",
    "                    else:\n",
    "                          #  or tie and or no win ? then turn to next players\n",
    "                        turn = 'Player 2'\n",
    "                          \n",
    "                      \n",
    "    else:\n",
    "                \n",
    "             # show the board\n",
    "                display_board(the_board)\n",
    "             #Choose the position    \n",
    "                position = player_choice(the_board)\n",
    "             # place the marker on the position\n",
    "                place_marker(the_board,player2_marker,position)\n",
    "                \n",
    "             # check if they won the game\n",
    "                if win_check(the_board,player2_marker):\n",
    "                    display_board(the_board)\n",
    "                    print('Player 1 has won !!')\n",
    "                    game_on = False\n",
    "                else:\n",
    "                     # or check if there is a tie\n",
    "                    if full_board_check(the_board):\n",
    "                        display_board(the_board)\n",
    "                        print('TIE GAME')\n",
    "                        game_on = False\n",
    "                    else:\n",
    "                          #  or tie and or no win ? then turn to next players\n",
    "                        turn = 'Player 1'\n",
    "            \n",
    "            \n",
    "    if not replay():\n",
    "         break"
   ]
  },
  {
   "cell_type": "code",
   "execution_count": null,
   "metadata": {},
   "outputs": [],
   "source": []
  },
  {
   "cell_type": "code",
   "execution_count": null,
   "metadata": {},
   "outputs": [],
   "source": []
  }
 ],
 "metadata": {
  "kernelspec": {
   "display_name": "Python 3",
   "language": "python",
   "name": "python3"
  },
  "language_info": {
   "codemirror_mode": {
    "name": "ipython",
    "version": 3
   },
   "file_extension": ".py",
   "mimetype": "text/x-python",
   "name": "python",
   "nbconvert_exporter": "python",
   "pygments_lexer": "ipython3",
   "version": "3.7.1"
  }
 },
 "nbformat": 4,
 "nbformat_minor": 2
}
